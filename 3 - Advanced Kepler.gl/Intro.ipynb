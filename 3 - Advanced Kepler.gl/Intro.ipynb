{
 "cells": [
  {
   "cell_type": "markdown",
   "metadata": {},
   "source": [
    "## Install log\n",
    "\n",
    "1. Running `map_1 = KeplerGl(height=500)` results in this error message: \n",
    "\n",
    "> Error displaying widget: model not found\n",
    "\n",
    "The [issue is reported here](https://github.com/keplergl/kepler.gl/issues/1064), and is currently open.\n",
    "\n",
    "2. "
   ]
  },
  {
   "cell_type": "code",
   "execution_count": 1,
   "metadata": {},
   "outputs": [],
   "source": [
    "import pandas as pd"
   ]
  },
  {
   "cell_type": "code",
   "execution_count": 2,
   "metadata": {},
   "outputs": [
    {
     "name": "stdout",
     "output_type": "stream",
     "text": [
      "User Guide: https://github.com/keplergl/kepler.gl/blob/master/docs/keplergl-jupyter/user-guide.md\n"
     ]
    }
   ],
   "source": [
    "from keplergl import KeplerGl\n",
    "w1 = KeplerGl()"
   ]
  },
  {
   "cell_type": "code",
   "execution_count": 3,
   "metadata": {},
   "outputs": [],
   "source": [
    "df = pd.DataFrame(\n",
    "    {'City': ['Buenos Aires', 'Brasilia', 'Santiago', 'Bogota', 'Caracas'],\n",
    "     'Latitude': [-34.58, -15.78, -33.45, 4.60, 10.48],\n",
    "     'Longitude': [-58.66, -47.91, -70.66, -74.08, -66.86]})\n",
    "\n",
    "w1.add_data(data=df, name='cities')"
   ]
  },
  {
   "cell_type": "code",
   "execution_count": 4,
   "metadata": {},
   "outputs": [
    {
     "name": "stdout",
     "output_type": "stream",
     "text": [
      "Map saved to keplergl_map.html!\n"
     ]
    }
   ],
   "source": [
    "w1.save_to_html()"
   ]
  },
  {
   "cell_type": "code",
   "execution_count": 5,
   "metadata": {},
   "outputs": [
    {
     "data": {
      "text/html": [
       "<div>\n",
       "<style scoped>\n",
       "    .dataframe tbody tr th:only-of-type {\n",
       "        vertical-align: middle;\n",
       "    }\n",
       "\n",
       "    .dataframe tbody tr th {\n",
       "        vertical-align: top;\n",
       "    }\n",
       "\n",
       "    .dataframe thead th {\n",
       "        text-align: right;\n",
       "    }\n",
       "</style>\n",
       "<table border=\"1\" class=\"dataframe\">\n",
       "  <thead>\n",
       "    <tr style=\"text-align: right;\">\n",
       "      <th></th>\n",
       "      <th>CMPLNT_NUM</th>\n",
       "      <th>ADDR_PCT_CD</th>\n",
       "      <th>BORO_NM</th>\n",
       "      <th>CMPLNT_FR_DT</th>\n",
       "      <th>CMPLNT_FR_TM</th>\n",
       "      <th>CMPLNT_TO_DT</th>\n",
       "      <th>CMPLNT_TO_TM</th>\n",
       "      <th>CRM_ATPT_CPTD_CD</th>\n",
       "      <th>HADEVELOPT</th>\n",
       "      <th>HOUSING_PSA</th>\n",
       "      <th>...</th>\n",
       "      <th>TRANSIT_DISTRICT</th>\n",
       "      <th>VIC_AGE_GROUP</th>\n",
       "      <th>VIC_RACE</th>\n",
       "      <th>VIC_SEX</th>\n",
       "      <th>X_COORD_CD</th>\n",
       "      <th>Y_COORD_CD</th>\n",
       "      <th>Latitude</th>\n",
       "      <th>Longitude</th>\n",
       "      <th>Lat_Lon</th>\n",
       "      <th>geometry</th>\n",
       "    </tr>\n",
       "  </thead>\n",
       "  <tbody>\n",
       "    <tr>\n",
       "      <th>0</th>\n",
       "      <td>466502077</td>\n",
       "      <td>75</td>\n",
       "      <td>BROOKLYN</td>\n",
       "      <td>03/30/2020</td>\n",
       "      <td>17:30:00</td>\n",
       "      <td>03/31/2020</td>\n",
       "      <td>06:53:00</td>\n",
       "      <td>COMPLETED</td>\n",
       "      <td></td>\n",
       "      <td></td>\n",
       "      <td>...</td>\n",
       "      <td></td>\n",
       "      <td>25-44</td>\n",
       "      <td>BLACK</td>\n",
       "      <td>M</td>\n",
       "      <td>1018496</td>\n",
       "      <td>178657</td>\n",
       "      <td>40.65699087900003</td>\n",
       "      <td>-73.87657444799999</td>\n",
       "      <td>(40.65699087900003, -73.87657444799999)</td>\n",
       "      <td>None</td>\n",
       "    </tr>\n",
       "    <tr>\n",
       "      <th>1</th>\n",
       "      <td>303191835</td>\n",
       "      <td>77</td>\n",
       "      <td>BROOKLYN</td>\n",
       "      <td>03/28/2020</td>\n",
       "      <td>19:30:00</td>\n",
       "      <td>03/28/2020</td>\n",
       "      <td>20:30:00</td>\n",
       "      <td>COMPLETED</td>\n",
       "      <td></td>\n",
       "      <td></td>\n",
       "      <td>...</td>\n",
       "      <td></td>\n",
       "      <td>&lt;18</td>\n",
       "      <td>UNKNOWN</td>\n",
       "      <td>F</td>\n",
       "      <td>1003606</td>\n",
       "      <td>185050</td>\n",
       "      <td>40.67458330800008</td>\n",
       "      <td>-73.93022154099998</td>\n",
       "      <td>(40.67458330800008, -73.93022154099998)</td>\n",
       "      <td>None</td>\n",
       "    </tr>\n",
       "    <tr>\n",
       "      <th>2</th>\n",
       "      <td>735488557</td>\n",
       "      <td>43</td>\n",
       "      <td>BRONX</td>\n",
       "      <td>03/29/2020</td>\n",
       "      <td>14:10:00</td>\n",
       "      <td></td>\n",
       "      <td></td>\n",
       "      <td>COMPLETED</td>\n",
       "      <td></td>\n",
       "      <td></td>\n",
       "      <td>...</td>\n",
       "      <td></td>\n",
       "      <td>UNKNOWN</td>\n",
       "      <td>UNKNOWN</td>\n",
       "      <td>D</td>\n",
       "      <td>1019853</td>\n",
       "      <td>241853</td>\n",
       "      <td>40.83044253800006</td>\n",
       "      <td>-73.871349147</td>\n",
       "      <td>(40.83044253800006, -73.871349147)</td>\n",
       "      <td>None</td>\n",
       "    </tr>\n",
       "    <tr>\n",
       "      <th>3</th>\n",
       "      <td>315962428</td>\n",
       "      <td>40</td>\n",
       "      <td>BRONX</td>\n",
       "      <td>03/29/2020</td>\n",
       "      <td>07:10:00</td>\n",
       "      <td>03/29/2020</td>\n",
       "      <td>07:16:00</td>\n",
       "      <td>COMPLETED</td>\n",
       "      <td></td>\n",
       "      <td></td>\n",
       "      <td>...</td>\n",
       "      <td></td>\n",
       "      <td>25-44</td>\n",
       "      <td>WHITE HISPANIC</td>\n",
       "      <td>F</td>\n",
       "      <td>1007236</td>\n",
       "      <td>237260</td>\n",
       "      <td>40.817877907000025</td>\n",
       "      <td>-73.91695668199996</td>\n",
       "      <td>(40.817877907000025, -73.91695668199996)</td>\n",
       "      <td>None</td>\n",
       "    </tr>\n",
       "    <tr>\n",
       "      <th>4</th>\n",
       "      <td>165437868</td>\n",
       "      <td>114</td>\n",
       "      <td>QUEENS</td>\n",
       "      <td>03/27/2020</td>\n",
       "      <td>13:15:00</td>\n",
       "      <td>03/27/2020</td>\n",
       "      <td>14:00:00</td>\n",
       "      <td>COMPLETED</td>\n",
       "      <td></td>\n",
       "      <td></td>\n",
       "      <td>...</td>\n",
       "      <td></td>\n",
       "      <td>45-64</td>\n",
       "      <td>BLACK</td>\n",
       "      <td>F</td>\n",
       "      <td>1002018</td>\n",
       "      <td>213258</td>\n",
       "      <td>40.75201086000004</td>\n",
       "      <td>-73.93587196099996</td>\n",
       "      <td>(40.75201086000004, -73.93587196099996)</td>\n",
       "      <td>None</td>\n",
       "    </tr>\n",
       "  </tbody>\n",
       "</table>\n",
       "<p>5 rows × 36 columns</p>\n",
       "</div>"
      ],
      "text/plain": [
       "  CMPLNT_NUM ADDR_PCT_CD   BORO_NM CMPLNT_FR_DT CMPLNT_FR_TM CMPLNT_TO_DT  \\\n",
       "0  466502077          75  BROOKLYN   03/30/2020     17:30:00   03/31/2020   \n",
       "1  303191835          77  BROOKLYN   03/28/2020     19:30:00   03/28/2020   \n",
       "2  735488557          43     BRONX   03/29/2020     14:10:00                \n",
       "3  315962428          40     BRONX   03/29/2020     07:10:00   03/29/2020   \n",
       "4  165437868         114    QUEENS   03/27/2020     13:15:00   03/27/2020   \n",
       "\n",
       "  CMPLNT_TO_TM CRM_ATPT_CPTD_CD HADEVELOPT HOUSING_PSA  ... TRANSIT_DISTRICT  \\\n",
       "0     06:53:00        COMPLETED                         ...                    \n",
       "1     20:30:00        COMPLETED                         ...                    \n",
       "2                     COMPLETED                         ...                    \n",
       "3     07:16:00        COMPLETED                         ...                    \n",
       "4     14:00:00        COMPLETED                         ...                    \n",
       "\n",
       "  VIC_AGE_GROUP        VIC_RACE VIC_SEX X_COORD_CD Y_COORD_CD  \\\n",
       "0         25-44           BLACK       M    1018496     178657   \n",
       "1           <18         UNKNOWN       F    1003606     185050   \n",
       "2       UNKNOWN         UNKNOWN       D    1019853     241853   \n",
       "3         25-44  WHITE HISPANIC       F    1007236     237260   \n",
       "4         45-64           BLACK       F    1002018     213258   \n",
       "\n",
       "             Latitude           Longitude  \\\n",
       "0   40.65699087900003  -73.87657444799999   \n",
       "1   40.67458330800008  -73.93022154099998   \n",
       "2   40.83044253800006       -73.871349147   \n",
       "3  40.817877907000025  -73.91695668199996   \n",
       "4   40.75201086000004  -73.93587196099996   \n",
       "\n",
       "                                    Lat_Lon geometry  \n",
       "0   (40.65699087900003, -73.87657444799999)     None  \n",
       "1   (40.67458330800008, -73.93022154099998)     None  \n",
       "2        (40.83044253800006, -73.871349147)     None  \n",
       "3  (40.817877907000025, -73.91695668199996)     None  \n",
       "4   (40.75201086000004, -73.93587196099996)     None  \n",
       "\n",
       "[5 rows x 36 columns]"
      ]
     },
     "execution_count": 5,
     "metadata": {},
     "output_type": "execute_result"
    }
   ],
   "source": [
    "import pandas as pd\n",
    "from keplergl import KeplerGl\n",
    "import geopandas as gpd\n",
    "df = gpd.read_file(\"NYPD_Complaint_Data_Current__Year_To_Date_.csv\")\n",
    "df.head()"
   ]
  },
  {
   "cell_type": "code",
   "execution_count": 6,
   "metadata": {},
   "outputs": [
    {
     "name": "stdout",
     "output_type": "stream",
     "text": [
      "User Guide: https://github.com/keplergl/kepler.gl/blob/master/docs/keplergl-jupyter/user-guide.md\n"
     ]
    },
    {
     "data": {
      "application/vnd.jupyter.widget-view+json": {
       "model_id": "f186c6dd7b1c4232b947935e31abc536",
       "version_major": 2,
       "version_minor": 0
      },
      "text/plain": [
       "KeplerGl(height=600)"
      ]
     },
     "metadata": {},
     "output_type": "display_data"
    }
   ],
   "source": [
    "#Create a basemap \n",
    "map1 = KeplerGl(height=600, width=800)\n",
    "#show the map\n",
    "map1"
   ]
  },
  {
   "cell_type": "code",
   "execution_count": null,
   "metadata": {},
   "outputs": [],
   "source": []
  },
  {
   "cell_type": "code",
   "execution_count": null,
   "metadata": {},
   "outputs": [],
   "source": []
  },
  {
   "cell_type": "code",
   "execution_count": null,
   "metadata": {},
   "outputs": [],
   "source": []
  },
  {
   "cell_type": "code",
   "execution_count": null,
   "metadata": {},
   "outputs": [],
   "source": []
  }
 ],
 "metadata": {
  "kernelspec": {
   "display_name": "Python 3",
   "language": "python",
   "name": "python3"
  },
  "language_info": {
   "codemirror_mode": {
    "name": "ipython",
    "version": 3
   },
   "file_extension": ".py",
   "mimetype": "text/x-python",
   "name": "python",
   "nbconvert_exporter": "python",
   "pygments_lexer": "ipython3",
   "version": "3.7.6"
  }
 },
 "nbformat": 4,
 "nbformat_minor": 4
}
