{
 "cells": [
  {
   "cell_type": "markdown",
   "metadata": {},
   "source": [
    "# Installing and setting up Kepler"
   ]
  },
  {
   "cell_type": "markdown",
   "metadata": {},
   "source": [
    "## Jupyter notebook"
   ]
  },
  {
   "cell_type": "markdown",
   "metadata": {},
   "source": [
    "### Step 1 - Check versions\n",
    "\n",
    "These are the latest (on macOS) as of May 13, 2020:\n",
    "\n",
    "```\n",
    "jupyter core     : 4.6.3\n",
    "jupyter-notebook : 6.0.3\n",
    "qtconsole        : 4.7.3\n",
    "ipython          : 7.14.0\n",
    "ipykernel        : 5.2.1\n",
    "jupyter client   : 6.1.3\n",
    "jupyter lab      : 2.1.2\n",
    "nbconvert        : 5.6.1\n",
    "ipywidgets       : 7.5.1\n",
    "nbformat         : 5.0.6\n",
    "traitlets        : 4.3.3\n",
    "```\n",
    "\n",
    "Run the command `jupyter --version` in terminal, or the cell below"
   ]
  },
  {
   "cell_type": "code",
   "execution_count": 1,
   "metadata": {
    "scrolled": true
   },
   "outputs": [
    {
     "name": "stdout",
     "output_type": "stream",
     "text": [
      "jupyter core     : 4.6.3\n",
      "jupyter-notebook : 6.0.3\n",
      "qtconsole        : 4.7.3\n",
      "ipython          : 7.14.0\n",
      "ipykernel        : 5.2.1\n",
      "jupyter client   : 6.1.3\n",
      "jupyter lab      : 2.1.2\n",
      "nbconvert        : 5.6.1\n",
      "ipywidgets       : 7.5.1\n",
      "nbformat         : 5.0.6\n",
      "traitlets        : 4.3.3\n"
     ]
    }
   ],
   "source": [
    "!jupyter --version"
   ]
  },
  {
   "cell_type": "markdown",
   "metadata": {},
   "source": [
    "### Step 2 - Update all things jupyter\n",
    "\n",
    "If using `conda`:\n",
    "\n",
    "`conda update jupyter`\n",
    "\n",
    "If using `pip`:\n",
    "\n",
    "`pip install jupyter --upgrade`"
   ]
  },
  {
   "cell_type": "markdown",
   "metadata": {},
   "source": [
    "### Step 3 - Install keplergl jupyter extension\n",
    "\n",
    "`pip install keplergl`"
   ]
  },
  {
   "cell_type": "markdown",
   "metadata": {},
   "source": [
    "### Step 4 - Intall `widgetsnbextension`\n",
    "\n",
    "Now install the `widgetsnbextension`, it's needed to use the keplergl widget in a jupyter notebook:\n",
    "\n",
    "`jupyter nbextension install --user --py widgetsnbextension`\n",
    "```\n",
    "- Validating: OK\n",
    "```"
   ]
  },
  {
   "cell_type": "markdown",
   "metadata": {},
   "source": [
    "### Step 5 - Enable `widgetsnbextension`\n",
    "\n",
    "\n",
    "`jupyter nbextension enable --user --py widgetsnbextension`\n",
    "\n",
    "You should now see a message similar to this\n",
    "\n",
    "```\n",
    "Enabling notebook extension jupyter-js-widgets/extension...\n",
    "      - Validating: OK\n",
    "```"
   ]
  },
  {
   "cell_type": "markdown",
   "metadata": {},
   "source": [
    "### Step 6: Final Step - make sure it works!\n",
    "\n",
    "Running the cell below, should produce a fully scrollable and zoomable map:\n",
    "\n",
    "![](works.png)"
   ]
  },
  {
   "cell_type": "code",
   "execution_count": 2,
   "metadata": {},
   "outputs": [
    {
     "name": "stdout",
     "output_type": "stream",
     "text": [
      "User Guide: https://docs.kepler.gl/docs/keplergl-jupyter\n"
     ]
    },
    {
     "data": {
      "application/vnd.jupyter.widget-view+json": {
       "model_id": "9a4f93a55485437b9d7aa816292da5b8",
       "version_major": 2,
       "version_minor": 0
      },
      "text/plain": [
       "KeplerGl()"
      ]
     },
     "metadata": {},
     "output_type": "display_data"
    }
   ],
   "source": [
    "import keplergl\n",
    "w1 = keplergl.KeplerGl()\n",
    "w1"
   ]
  },
  {
   "cell_type": "markdown",
   "metadata": {},
   "source": [
    "## Jupyter Lab"
   ]
  },
  {
   "cell_type": "markdown",
   "metadata": {},
   "source": [
    "Due to security reasons, Jupyterlab does not allow arbitrary execution of javascript code within a notebook (this in general, is a good thing). There are a few extra steps to get things to work in jupyter lab.\n",
    "\n",
    "**Note for Windows users: If you have managed to get things to work with Jupyter notebook, I suggest you proceed with the notebook version unless there is a compelling reason for you to go through the steps below.**"
   ]
  },
  {
   "cell_type": "markdown",
   "metadata": {},
   "source": [
    "### Step 1: Install nvm\n",
    "\n",
    "Node is a JavaScript runtime built on Chrome V8 javascript engine ([reference here](https://nodejs.org/en/)).\n",
    "\n",
    "`nvm` stands for node version manager. \n",
    "\n",
    "Extensions are sometimes particular about which version of node they work with. In this particular case, the developer suggests node node 10.\n",
    "\n",
    "Full install instructions are available [here](https://github.com/nvm-sh/nvm). \n",
    "\n",
    "Note for windows users: nvm does not support Windows, but may work in WSL (Windows Subsystem for Linux) depending on the version of WSL. For Windows, two alternatives exist but I have not tested these yet, they're linked in the install instructions above.\n",
    "\n",
    "To check if things worked, run this in a terminal:\n",
    "\n",
    "`nvm`\n",
    "\n",
    "If you get the help docs and NOT `command not found`, you're good to go"
   ]
  },
  {
   "cell_type": "markdown",
   "metadata": {},
   "source": [
    "### Step 2: Install Node using nvm\n",
    "\n",
    "`nvm install 10`\n",
    "\n",
    "You should get something like this:\n",
    "\n",
    "```\n",
    "Now using node v10.20.1 (npm v6.14.4)\n",
    "```"
   ]
  },
  {
   "cell_type": "markdown",
   "metadata": {},
   "source": [
    "### Step 3: Install jupyterlab-manager extension\n",
    "\n",
    "`jupyter labextension install @jupyter-widgets/jupyterlab-manager `\n",
    "\n",
    "It takes a minute or two to install and build the assets."
   ]
  },
  {
   "cell_type": "markdown",
   "metadata": {},
   "source": [
    "### Step 4: Install the keplergl extension"
   ]
  },
  {
   "cell_type": "markdown",
   "metadata": {},
   "source": [
    "`jupyter labextension install keplergl-jupyter`"
   ]
  },
  {
   "cell_type": "markdown",
   "metadata": {},
   "source": [
    "### Step 5: Check if things work:\n",
    "\n",
    "Running the cell below, should produce a fully scrollable and zoomable map:\n",
    "\n",
    "![](works.png)"
   ]
  },
  {
   "cell_type": "code",
   "execution_count": 3,
   "metadata": {},
   "outputs": [
    {
     "name": "stdout",
     "output_type": "stream",
     "text": [
      "User Guide: https://docs.kepler.gl/docs/keplergl-jupyter\n"
     ]
    },
    {
     "data": {
      "application/vnd.jupyter.widget-view+json": {
       "model_id": "d92c8488abcf42fcbc1728d5c3b27ae2",
       "version_major": 2,
       "version_minor": 0
      },
      "text/plain": [
       "KeplerGl()"
      ]
     },
     "metadata": {},
     "output_type": "display_data"
    }
   ],
   "source": [
    "import keplergl\n",
    "w1 = keplergl.KeplerGl()\n",
    "w1"
   ]
  }
 ],
 "metadata": {
  "kernelspec": {
   "display_name": "Python 3",
   "language": "python",
   "name": "python3"
  },
  "language_info": {
   "codemirror_mode": {
    "name": "ipython",
    "version": 3
   },
   "file_extension": ".py",
   "mimetype": "text/x-python",
   "name": "python",
   "nbconvert_exporter": "python",
   "pygments_lexer": "ipython3",
   "version": "3.7.7"
  }
 },
 "nbformat": 4,
 "nbformat_minor": 4
}
